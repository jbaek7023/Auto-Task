{
 "cells": [
  {
   "cell_type": "code",
   "execution_count": 1,
   "metadata": {
    "collapsed": true
   },
   "outputs": [],
   "source": [
    "import requests\n",
    "\n",
    "response = requests.get('http://news.naver.com/main/home.nhn')"
   ]
  },
  {
   "cell_type": "code",
   "execution_count": 2,
   "metadata": {
    "collapsed": false
   },
   "outputs": [
    {
     "data": {
      "text/plain": [
       "200"
      ]
     },
     "execution_count": 2,
     "metadata": {},
     "output_type": "execute_result"
    }
   ],
   "source": [
    "response.status_code"
   ]
  },
  {
   "cell_type": "code",
   "execution_count": 3,
   "metadata": {
    "collapsed": false
   },
   "outputs": [
    {
     "data": {
      "text/plain": [
       "{'Content-Language': 'ko-KR', 'Content-Encoding': 'gzip', 'Transfer-Encoding': 'chunked', 'Set-Cookie': 'page_uid=Tie5Xz33wZlssaaNhbNssssssss-516906; path=/; domain=.naver.com, _naver_usersession_=ojs133ZmleFvioYqssphaA==; path=/; max-age=300; domain=.naver.com, JSESSIONID=B3EE3C69DA87ECDACB4E005F5E3371D1; Path=/main/; HttpOnly', 'Expires': 'Thu, 01 Jan 1970 00:00:00 GMT', 'Vary': 'Accept-Encoding', 'Server': 'Apache', 'Connection': 'close', 'Cache-Control': 'no-cache', 'Date': 'Wed, 16 Aug 2017 13:33:47 GMT', 'Content-Type': 'text/html;charset=EUC-KR'}"
      ]
     },
     "execution_count": 3,
     "metadata": {},
     "output_type": "execute_result"
    }
   ],
   "source": [
    "response.headers"
   ]
  },
  {
   "cell_type": "code",
   "execution_count": 9,
   "metadata": {
    "collapsed": false
   },
   "outputs": [
    {
     "name": "stdout",
     "output_type": "stream",
     "text": [
      "상식in뉴스\n",
      "동영상기사\n",
      "\n",
      "껍데기 제거하면 괜찮을까?…문제는 '흰자·노른자'\n",
      "청와대 \"특별법 통과로 강력한 권한 '2기 특조위' 추진\"\n",
      "흙 목욕 대신 살충제로…'밀집 사육'이 근본 원인?\n",
      "\"'친환경인증' 믿었는데..\" 허점투성이 인증 체계\n",
      "트럼프 \"北김정은 현명하고 논리적인 결정 내려\"\n",
      "서울 화랑대역 인근 5층 상가 불…6명 연기흡입·100여명 대피\n",
      "'살충제 계란' 파동\n",
      "관련기사\n",
      "311건\n",
      "['살충제 계란' 원인·조사 진행은]\n",
      "흙 목욕 대신 살충제로…'밀집 사...\n",
      "['살충제 계란' 정부 대응]\n",
      "'살충제 오염' 늙은 산란계 유통 가능성…...\n",
      "['살충제 계란' 전수조사 결과 발표]\n",
      "4곳서 추가로 '살충제 달걀'…가...\n",
      "[적합판정 계란 판매 재개]\n",
      "'안전 달걀' 우선 유통 재개…혼란 최소화 ...\n",
      "['살충제 계란' 확인 및 처리 방법은]\n",
      "껍데기 제거하면 괜찮을까?…문...\n",
      "지구촌 화제\n",
      "뉴스, 이제 영어로 듣자!\n",
      "\n",
      "\n",
      "'살충제 계란' 파동\n",
      "\n",
      "부동산 시장 리포트\n",
      "\n",
      "문재인 정부 출범\n",
      "\n",
      "북한 잇따른 도발\n",
      "\n",
      "'박근혜·최순실' 재판\n",
      "\n",
      "방위사업 비리 수사\n",
      "\n",
      "美 '트럼프 시대'\n",
      "\n",
      "세월호 인양 그 후\n",
      "\n",
      "'사드 배치' 계속되는 논란\n",
      "\n",
      "한일 '위안부 협상' 타결 이후\n",
      "\n",
      "육군 대장의 갑질을 보며:갑질은 선악이 아니라..\n",
      "불공정 선거 보도 기사 모음\n"
     ]
    }
   ],
   "source": [
    "html = response.text\n",
    "from bs4 import BeautifulSoup\n",
    "soup = BeautifulSoup(html, 'html.parser')\n",
    "soup.select('a[href*=sectionList.nhn]') # find a > href contains 'sectionList.nhn\n",
    "\n",
    "for tag in soup.select('a[href*=sectionList.nhn]'):\n",
    "    print(tag.text.strip())"
   ]
  },
  {
   "cell_type": "markdown",
   "metadata": {},
   "source": [
    "## Setting Custom Request Header"
   ]
  },
  {
   "cell_type": "code",
   "execution_count": 11,
   "metadata": {
    "collapsed": false
   },
   "outputs": [],
   "source": [
    "request_headers = {\n",
    "    'User-Agent': ('Mozilla/5.0 (Macintosh; Intel Mac OS X 10_12_6) AppleWebKit/537.36 '\n",
    "                   '(KHTML, like Gecko) Chrome/58.0.3029.110 Safari/537.36'),\n",
    "    'Referer': 'http://news.naver.com/main/home.nhn', # 뉴스홈\n",
    "}\n",
    "response = requests.get('http://news.naver.com/main/main.nhn', headers=request_headers)"
   ]
  },
  {
   "cell_type": "code",
   "execution_count": 14,
   "metadata": {
    "collapsed": false
   },
   "outputs": [
    {
     "data": {
      "text/plain": [
       "<Response [200]>"
      ]
     },
     "execution_count": 14,
     "metadata": {},
     "output_type": "execute_result"
    }
   ],
   "source": [
    "response"
   ]
  },
  {
   "cell_type": "code",
   "execution_count": 15,
   "metadata": {
    "collapsed": true
   },
   "outputs": [],
   "source": [
    "# 동일 Key의 GET인자 지정\n",
    "\n",
    "# get_params = dict([('k1', 'v1'), ('k1', 'v3'), ('k2', 'v2')])\n",
    "get_params = (('k1', 'v1'), ('k1', 'v3'), ('k2', 'v2'))\n",
    "response = requests.get('http://httpbin.org/get', params=get_params)"
   ]
  },
  {
   "cell_type": "code",
   "execution_count": 16,
   "metadata": {
    "collapsed": false
   },
   "outputs": [
    {
     "data": {
      "text/plain": [
       "{u'k1': [u'v1', u'v3'], u'k2': u'v2'}"
      ]
     },
     "execution_count": 16,
     "metadata": {},
     "output_type": "execute_result"
    }
   ],
   "source": [
    "response.json()['args'] "
   ]
  },
  {
   "cell_type": "code",
   "execution_count": 17,
   "metadata": {
    "collapsed": false
   },
   "outputs": [
    {
     "data": {
      "text/plain": [
       "{u'k1': [u'v1', u'v3'], u'k2': u'v2'}"
      ]
     },
     "execution_count": 17,
     "metadata": {},
     "output_type": "execute_result"
    }
   ],
   "source": [
    "import json\n",
    "json.loads(response.text)['args']"
   ]
  },
  {
   "cell_type": "code",
   "execution_count": 18,
   "metadata": {
    "collapsed": false
   },
   "outputs": [
    {
     "data": {
      "text/plain": [
       "200"
      ]
     },
     "execution_count": 18,
     "metadata": {},
     "output_type": "execute_result"
    }
   ],
   "source": [
    "response.status_code"
   ]
  },
  {
   "cell_type": "code",
   "execution_count": 19,
   "metadata": {
    "collapsed": false
   },
   "outputs": [
    {
     "data": {
      "text/plain": [
       "True"
      ]
     },
     "execution_count": 19,
     "metadata": {},
     "output_type": "execute_result"
    }
   ],
   "source": [
    "response.ok"
   ]
  },
  {
   "cell_type": "code",
   "execution_count": 20,
   "metadata": {
    "collapsed": false
   },
   "outputs": [
    {
     "data": {
      "text/plain": [
       "'application/json'"
      ]
     },
     "execution_count": 20,
     "metadata": {},
     "output_type": "execute_result"
    }
   ],
   "source": [
    "response.headers['content-TYPE']"
   ]
  },
  {
   "cell_type": "code",
   "execution_count": 21,
   "metadata": {
    "collapsed": false
   },
   "outputs": [
    {
     "name": "stdout",
     "output_type": "stream",
     "text": [
      "None\n"
     ]
    }
   ],
   "source": [
    "print(response.encoding)"
   ]
  },
  {
   "cell_type": "code",
   "execution_count": 22,
   "metadata": {
    "collapsed": false
   },
   "outputs": [
    {
     "data": {
      "text/plain": [
       "{u'args': {},\n",
       " u'data': u'',\n",
       " u'files': {},\n",
       " u'form': {u'k1': [u'v1', u'v2'], u'k3': u'v3'},\n",
       " u'headers': {u'Accept': u'*/*',\n",
       "  u'Accept-Encoding': u'gzip, deflate',\n",
       "  u'Connection': u'close',\n",
       "  u'Content-Length': u'17',\n",
       "  u'Content-Type': u'application/x-www-form-urlencoded',\n",
       "  u'Host': u'httpbin.org',\n",
       "  u'User-Agent': u'python-requests/2.12.4'},\n",
       " u'json': None,\n",
       " u'origin': u'221.151.21.173',\n",
       " u'url': u'http://httpbin.org/post'}"
      ]
     },
     "execution_count": 22,
     "metadata": {},
     "output_type": "execute_result"
    }
   ],
   "source": [
    "data = [('k1', 'v1'), ('k1', 'v2'), ('k3', 'v3')]\n",
    "response = requests.post('http://httpbin.org/post', data=data)\n",
    "response.json()"
   ]
  },
  {
   "cell_type": "markdown",
   "metadata": {},
   "source": [
    "# Json Request"
   ]
  },
  {
   "cell_type": "code",
   "execution_count": 23,
   "metadata": {
    "collapsed": true
   },
   "outputs": [],
   "source": [
    "import json\n",
    "json_data = {'k1': 'v2', 'k2': [1, 2, 3], 'name': 'Ask장고'}\n",
    "json_string = json.dumps(json_data)"
   ]
  },
  {
   "cell_type": "code",
   "execution_count": 24,
   "metadata": {
    "collapsed": false
   },
   "outputs": [
    {
     "data": {
      "text/plain": [
       "{u'args': {},\n",
       " u'data': u'{\"k2\": [1, 2, 3], \"k1\": \"v2\", \"name\": \"Ask\\\\uc7a5\\\\uace0\"}',\n",
       " u'files': {},\n",
       " u'form': {},\n",
       " u'headers': {u'Accept': u'*/*',\n",
       "  u'Accept-Encoding': u'gzip, deflate',\n",
       "  u'Connection': u'close',\n",
       "  u'Content-Length': u'56',\n",
       "  u'Host': u'httpbin.org',\n",
       "  u'User-Agent': u'python-requests/2.12.4'},\n",
       " u'json': {u'k1': u'v2', u'k2': [1, 2, 3], u'name': u'Ask\\uc7a5\\uace0'},\n",
       " u'origin': u'221.151.21.173',\n",
       " u'url': u'http://httpbin.org/post'}"
      ]
     },
     "execution_count": 24,
     "metadata": {},
     "output_type": "execute_result"
    }
   ],
   "source": [
    "response = requests.post('http://httpbin.org/post', data=json_string)\n",
    "response.json()"
   ]
  },
  {
   "cell_type": "code",
   "execution_count": 25,
   "metadata": {
    "collapsed": false
   },
   "outputs": [
    {
     "ename": "IOError",
     "evalue": "[Errno 2] No such file or directory: 'f1.jpg'",
     "output_type": "error",
     "traceback": [
      "\u001b[0;31m---------------------------------------------------------------------------\u001b[0m",
      "\u001b[0;31mIOError\u001b[0m                                   Traceback (most recent call last)",
      "\u001b[0;32m<ipython-input-25-a38536483e8f>\u001b[0m in \u001b[0;36m<module>\u001b[0;34m()\u001b[0m\n\u001b[1;32m      1\u001b[0m files = {\n\u001b[0;32m----> 2\u001b[0;31m     \u001b[0;34m'photo1'\u001b[0m\u001b[0;34m:\u001b[0m \u001b[0mopen\u001b[0m\u001b[0;34m(\u001b[0m\u001b[0;34m'f1.jpg'\u001b[0m\u001b[0;34m,\u001b[0m \u001b[0;34m'rb'\u001b[0m\u001b[0;34m)\u001b[0m\u001b[0;34m,\u001b[0m \u001b[0;31m# 데이터만 전송\u001b[0m\u001b[0;34m\u001b[0m\u001b[0m\n\u001b[0m\u001b[1;32m      3\u001b[0m     \u001b[0;34m'photo2'\u001b[0m\u001b[0;34m:\u001b[0m \u001b[0mopen\u001b[0m\u001b[0;34m(\u001b[0m\u001b[0;34m'f2.jpg'\u001b[0m\u001b[0;34m,\u001b[0m \u001b[0;34m'rb'\u001b[0m\u001b[0;34m)\u001b[0m\u001b[0;34m,\u001b[0m\u001b[0;34m\u001b[0m\u001b[0m\n\u001b[1;32m      4\u001b[0m     \u001b[0;34m'photo3'\u001b[0m\u001b[0;34m:\u001b[0m \u001b[0;34m(\u001b[0m\u001b[0;34m'f3.jpg'\u001b[0m\u001b[0;34m,\u001b[0m \u001b[0mopen\u001b[0m\u001b[0;34m(\u001b[0m\u001b[0;34m'f3.jpg'\u001b[0m\u001b[0;34m,\u001b[0m \u001b[0;34m'rb'\u001b[0m\u001b[0;34m)\u001b[0m\u001b[0;34m,\u001b[0m \u001b[0;34m'image/jpeg'\u001b[0m\u001b[0;34m,\u001b[0m \u001b[0;34m{\u001b[0m\u001b[0;34m'Expires'\u001b[0m\u001b[0;34m:\u001b[0m \u001b[0;34m'0'\u001b[0m\u001b[0;34m}\u001b[0m\u001b[0;34m)\u001b[0m\u001b[0;34m,\u001b[0m\u001b[0;34m\u001b[0m\u001b[0m\n\u001b[1;32m      5\u001b[0m }\n",
      "\u001b[0;31mIOError\u001b[0m: [Errno 2] No such file or directory: 'f1.jpg'"
     ]
    }
   ],
   "source": [
    "files = {\n",
    "    'photo1': open('f1.jpg', 'rb'), # 데이터만 전송\n",
    "    'photo2': open('f2.jpg', 'rb'),\n",
    "    'photo3': ('f3.jpg', open('f3.jpg', 'rb'), 'image/jpeg', {'Expires': '0'}),\n",
    "}\n",
    "post_params = {'k1': 'v1'}\n",
    "response = requests.post('http://httpbin.org/post', files=files, data=post_params)"
   ]
  },
  {
   "cell_type": "code",
   "execution_count": null,
   "metadata": {
    "collapsed": true
   },
   "outputs": [],
   "source": [
    "response.json()"
   ]
  }
 ],
 "metadata": {
  "kernelspec": {
   "display_name": "Python [default]",
   "language": "python",
   "name": "python2"
  },
  "language_info": {
   "codemirror_mode": {
    "name": "ipython",
    "version": 2
   },
   "file_extension": ".py",
   "mimetype": "text/x-python",
   "name": "python",
   "nbconvert_exporter": "python",
   "pygments_lexer": "ipython2",
   "version": "2.7.12"
  }
 },
 "nbformat": 4,
 "nbformat_minor": 1
}
