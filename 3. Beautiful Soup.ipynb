{
 "cells": [
  {
   "cell_type": "markdown",
   "metadata": {},
   "source": [
    "## HTML parser - normal case"
   ]
  },
  {
   "cell_type": "code",
   "execution_count": 3,
   "metadata": {
    "collapsed": false
   },
   "outputs": [
    {
     "name": "stdout",
     "output_type": "stream",
     "text": [
      "NEVER - 국민의 아들\n",
      "SIGNAL - TWICE\n",
      "LONELY - 씨스타\n",
      "I LUV IT - PSY\n",
      "New Face - PSY\n"
     ]
    }
   ],
   "source": [
    "from bs4 import BeautifulSoup\n",
    "html = '''\n",
    "<ol>\n",
    "    <li>NEVER - 국민의 아들</li>\n",
    "    <li>SIGNAL - TWICE</li>\n",
    "    <li>LONELY - 씨스타</li>\n",
    "    <li>I LUV IT - PSY</li>\n",
    "    <li>New Face - PSY</li>\n",
    "</ol>\n",
    "'''\n",
    "\n",
    "soup = BeautifulSoup(html, 'html.parser')\n",
    "for tag in soup.select('li'):\n",
    "    print(tag.text)"
   ]
  },
  {
   "cell_type": "code",
   "execution_count": 4,
   "metadata": {
    "collapsed": false
   },
   "outputs": [
    {
     "name": "stdout",
     "output_type": "stream",
     "text": [
      "(1, u'\\uc88b\\ub2c8')\n",
      "(2, u'\\uc5d0\\ub108\\uc81c\\ud2f1 (Energetic)')\n",
      "(3, u'N\\ubd84\\uc7581 (Feat. \\ub2e4\\uc774\\ub098\\ubbf9\\ub4c0\\uc624)')\n",
      "(4, u'\\ube44\\ub3c4 \\uc624\\uace0 \\uadf8\\ub798\\uc11c (Feat. \\uc2e0\\uc6a9\\uc7ac)')\n",
      "(5, u'DARLING')\n",
      "(6, u'\\uc694\\uc998\\uac83\\ub4e4 (Feat. ZICO, DEAN)')\n",
      "(7, u'\\ud65c\\ud65c (Burn It Up)')\n",
      "(8, u'Ko Ko Bop')\n",
      "(9, u'\\ube68\\uac04 \\ub9db (Red Flavor)')\n",
      "(10, u'\\ub9e4\\uc77c \\ub4e3\\ub294 \\ub178\\ub798 (A Daily Song)')\n",
      "(11, u'Wanna Be (My Baby)')\n",
      "(12, u'WAKE ME UP')\n",
      "(13, u'\\ub9c8\\uc9c0\\ub9c9\\ucc98\\ub7fc')\n",
      "(14, u'\\uc774 \\uc790\\ub9ac\\uc5d0 (Acoustic Ver.)')\n",
      "(15, u'\\ub110 \\ub108\\ubb34 \\ubaa8\\ub974\\uace0')\n",
      "(16, u'Artist')\n",
      "(17, u'\\uc5b4\\ub514 (Feat. DEAN, \\uc9c0\\ucf54(ZICO))')\n",
      "(18, u'\\ubc24\\ud3b8\\uc9c0')\n",
      "(19, u'LOVE ME LOVE ME')\n",
      "(20, u'\\uadc0\\ub97c \\uae30\\uc6b8\\uc774\\uba74 (LOVE WHISPER)')\n",
      "(21, u'\\ub0a8\\uc774 \\ub420 \\uc218 \\uc788\\uc744\\uae4c')\n",
      "(22, u'To Be One (Intro.)')\n",
      "(23, u'\\uc804\\uc57c (\\u524d\\u591c) (The Eve)')\n",
      "(24, u'Shape of You')\n",
      "(25, u'\\uc0ac\\ub791\\ud558\\uc9c0 \\uc54a\\uc740 \\uac83\\ucc98\\ub7fc')\n",
      "(26, u'\\ub098\\ub85c \\ub9d0\\ud560 \\uac83 \\uac19\\uc73c\\uba74 (Yes I am)')\n",
      "(27, u'\\ubb34\\uc81c(\\u7121\\u984c) (Untitled, 2014)')\n",
      "(28, u'Holiday')\n",
      "(29, u'\\ucc98\\uc74c\\ubd80\\ud130 \\ub108\\uc640 \\ub098')\n",
      "(30, u'What U do?')\n",
      "(31, u'\\uc788\\ub2e4\\uba74')\n",
      "(32, u'all of my life')\n",
      "(33, u'Forever')\n",
      "(34, u'FANXY CHILD (Feat. FANXY CHILD)')\n",
      "(35, u'\\uae30\\uc5b5\\uc744 \\uac77\\ub294 \\ubc24 (Walk On Memories)')\n",
      "(36, u'\\uc624\\ub298\\ubc24 (TONIGHT) (Feat. ZICO)')\n",
      "(37, u'\\ub108\\uc758 \\uc190\\uc9d3 (Touch It)')\n",
      "(38, u'\\u767d\\u591c')\n",
      "(39, u'\\ub2e4\\uc774\\uc544\\ubaac\\ub4dc (Diamond)')\n",
      "(40, u'\\uc5ec\\ubcf4\\uc138\\uc694')\n",
      "(41, u'\\uc18c\\ub984 (Chill)')\n",
      "(42, u'\\ub0b4\\uac00 \\ubbf8\\uccd0 (Going Crazy)')\n",
      "(43, u'FIVE')\n",
      "(44, u'\\ud314\\ub808\\ud2b8 (Feat. G-DRAGON)')\n",
      "(45, u'REALLY REALLY')\n",
      "(46, u'DINOSAUR')\n",
      "(47, u'\\uc624\\ub298 \\ucde8\\ud558\\uba74 (Feat. \\ucc3d\\ubaa8) (Prod. SUGA)')\n",
      "(48, u'\\ub3c4\\ubc15 (Life Is a Gamble) (Feat. \\ubc15\\uc7ac\\ubc94, Dok2)')\n",
      "(49, u'Why Don`t You Know (Feat. \\ub109\\uc0b4)')\n",
      "(50, u'New Face')\n",
      "(51, u'\\ub85c\\ube44\\ub85c\\ubaa8\\uc5ec (Feat. \\ub2e4\\uc774\\ub098\\ubbf9\\ub4c0\\uc624, \\uccad\\ud558, \\ubba4\\uc9c0)')\n",
      "(52, u'\\uc544\\uce68\\uc5d0 (Feat. Bryn)')\n",
      "(53, u'\\ud145\\ube48\\ub3c4\\ub85c (EMPTY ROAD)')\n",
      "(54, u'SIGNAL')\n",
      "(55, u'RIDE')\n",
      "(56, u'\\uccab\\ub208\\ucc98\\ub7fc \\ub108\\uc5d0\\uac8c \\uac00\\uaca0\\ub2e4')\n",
      "(57, u'\\ubbf8\\uce58\\uace0 \\uc2f6\\ub2e4')\n",
      "(58, u'AMAZIN`')\n",
      "(59, u'Marry Me')\n",
      "(60, u'D (half moon) (Feat. \\uac1c\\ucf54)')\n",
      "(61, u'NEVER')\n",
      "(62, u'NAKED')\n",
      "(63, u'\\ubd88\\uc7a5\\ub09c')\n",
      "(64, u'BLUE MOON (Prod. GroovyRoom)')\n",
      "(65, u'\\ubd04\\ub0a0')\n",
      "(66, u'Love Paint (every afternoon)')\n",
      "(67, u'\\ub3cc\\uc544\\uc624\\uc9c0\\ub9c8 (Feat. \\uc6a9\\uc900\\ud615 Of \\ube44\\uc2a4\\ud2b8)')\n",
      "(68, u'Closer (Feat. Halsey)')\n",
      "(69, u'\\uc0ac\\ub791\\uc774 \\uc798 (With \\uc624\\ud601)')\n",
      "(70, u'ISLAND')\n",
      "(71, u'Look (a starlight night)')\n",
      "(72, u'\\uc544\\ub984\\ub2e4\\uc6cc')\n",
      "(73, u'I LUV IT')\n",
      "(74, u'\\uc5b4\\ub514\\uc5d0\\ub3c4')\n",
      "(75, u'\\uc88b\\ub2e4\\uace0 \\ub9d0\\ud574')\n",
      "(76, u'\\ub098\\ub9cc \\uc548\\ub418\\ub294 \\uc5f0\\uc560')\n",
      "(77, u'All I Wanna Do (K) (Feat. Hoody, Loco)')\n",
      "(78, u'Love Yourself')\n",
      "(79, u'\\uc6b0\\uc8fc\\ub97c \\uc904\\uac8c')\n",
      "(80, u'TOMBOY')\n",
      "(81, u'Something Just Like This')\n",
      "(82, u'KNOCK KNOCK')\n",
      "(83, u'\\uadf8\\ub300\\ub77c\\ub294 \\uc0ac\\uce58')\n",
      "(84, u'\\uc18c\\ub098\\uae30')\n",
      "(85, u'\\ub108\\uc600\\ub2e4\\uba74')\n",
      "(86, u'LONELY')\n",
      "(87, u'All Night')\n",
      "(88, u'\\uc5ec\\uc655\\uc758 \\uae30\\uc0ac')\n",
      "(89, u'\\ub098\\uc57c \\ub098 (PICK ME)')\n",
      "(90, u'\\ubd80\\ub2f4\\uc774 \\ub3fc (Feat. \\ud718\\uc778 Of \\ub9c8\\ub9c8\\ubb34)')\n",
      "(91, u'Daybreak (Minhyun&JR;)')\n",
      "(92, u'\\ubc14\\ub78c\\uc774 \\ubd88\\uc5c8\\uc73c\\uba74 \\uc88b\\uaca0\\uc5b4')\n",
      "(93, u'Decalcomanie (\\ub370\\uce7c\\ucf54\\ub9c8\\ub2c8)')\n",
      "(94, u'\\ub9de\\uc9c0?')\n",
      "(95, u'\\uc0ac\\ub791\\uc553\\uc774 (With \\uae40\\ub098\\uc601)')\n",
      "(96, u'\\uc5bc\\uad74 \\ucc0c\\ud478\\ub9ac\\uc9c0 \\ub9d0\\uc544\\uc694')\n",
      "(97, u'\\uc624\\ub79c \\ub0a0 \\uc624\\ub79c \\ubc24')\n",
      "(98, u'\\uadf8\\ub7f4\\uac78')\n",
      "(99, u'\\uc5b4\\ub560\\uc744\\uae4c (Feat. \\ubc15\\uc815\\ud604)')\n",
      "(100, u'See You Again (\\ud3f4 \\uc6cc\\ucee4 \\ucd94\\ubaa8 \\uc5d4\\ub529\\uace1)')\n"
     ]
    }
   ],
   "source": [
    "## pip3 install lxml\n",
    "import requests\n",
    "from bs4 import BeautifulSoup\n",
    "html = requests.get('http://www.melon.com/chart/index.htm').text\n",
    "soup = BeautifulSoup(html, 'html.parser')\n",
    "\n",
    "tag_list = []\n",
    "for tr_tag in soup.find(id='chartListObj').find_all('tr'):\n",
    "    tag = tr_tag.find(class_='wrap_song_info') # just use class_ \n",
    "    if tag:\n",
    "        # lambda = function\n",
    "        tag_sub_list = tag.find_all(href=lambda value: (value and 'playSong' in value))\n",
    "        tag_list.extend(tag_sub_list)\n",
    "\n",
    "for idx, tag in enumerate(tag_list, 1):\n",
    "    print(idx, tag.text)"
   ]
  },
  {
   "cell_type": "markdown",
   "metadata": {},
   "source": [
    "## How to find a tag"
   ]
  },
  {
   "cell_type": "markdown",
   "metadata": {},
   "source": [
    "#### Use find\n",
    "\n",
    "#### CSS Selector\n",
    "- * : every tag\n",
    "- tag: \n",
    "- tag1 > tag2\n",
    "- tag1 tag2 : \n",
    "- tag1, tag2 : tag1 or tag2\""
   ]
  }
 ],
 "metadata": {
  "kernelspec": {
   "display_name": "Python [default]",
   "language": "python",
   "name": "python2"
  },
  "language_info": {
   "codemirror_mode": {
    "name": "ipython",
    "version": 2
   },
   "file_extension": ".py",
   "mimetype": "text/x-python",
   "name": "python",
   "nbconvert_exporter": "python",
   "pygments_lexer": "ipython2",
   "version": "2.7.12"
  }
 },
 "nbformat": 4,
 "nbformat_minor": 1
}
